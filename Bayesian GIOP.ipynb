{
 "cells": [
  {
   "cell_type": "code",
   "execution_count": 1,
   "metadata": {},
   "outputs": [],
   "source": [
    "import pymc3 as pm\n",
    "import arviz as az\n",
    "import pandas as pd\n",
    "import numpy as np\n",
    "import seaborn as sb"
   ]
  },
  {
   "cell_type": "code",
   "execution_count": 2,
   "metadata": {},
   "outputs": [],
   "source": [
    "az.style.use('arviz-darkgrid')"
   ]
  },
  {
   "cell_type": "code",
   "execution_count": null,
   "metadata": {},
   "outputs": [],
   "source": [
    "def get_bbw(λ):\n",
    "    return 0.0038 * (400 / λ)**4.32\n",
    "\n",
    "\n",
    "def get_bbp_star(λ):\n",
    "    return λ ** Sbp\n",
    "\n",
    "\n",
    "\n",
    "with pm.Model() as m_giop:\n",
    "    \n",
    "    \n",
    "    u = (bbw_λ + Bbp * bbp_star_λ) / (bbw_λ + Bbp * bbp_star_λ \n",
    "                                      + aw_λ + Adg * adg_star_λ \n",
    "                                      + Aϕ*aϕ_star_λ)"
   ]
  }
 ],
 "metadata": {
  "kernelspec": {
   "display_name": "Python [conda env:chl_alg_comparison]",
   "language": "python",
   "name": "conda-env-chl_alg_comparison-py"
  },
  "language_info": {
   "codemirror_mode": {
    "name": "ipython",
    "version": 3
   },
   "file_extension": ".py",
   "mimetype": "text/x-python",
   "name": "python",
   "nbconvert_exporter": "python",
   "pygments_lexer": "ipython3",
   "version": "3.7.3"
  }
 },
 "nbformat": 4,
 "nbformat_minor": 2
}
